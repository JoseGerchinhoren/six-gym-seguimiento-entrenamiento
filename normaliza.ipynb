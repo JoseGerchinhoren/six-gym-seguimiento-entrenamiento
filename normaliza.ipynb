{
 "cells": [
  {
   "cell_type": "markdown",
   "metadata": {},
   "source": [
    "Convierte la primera palabra del nombre del ejercicio a mayúscula y elimina los espacios en blanco al principio y al final del nombre."
   ]
  },
  {
   "cell_type": "code",
   "execution_count": 1,
   "metadata": {},
   "outputs": [
    {
     "name": "stdout",
     "output_type": "stream",
     "text": [
      "Datos normalizados y guardados correctamente en 'entrenamientosHipertrofia_normalizado.csv'.\n"
     ]
    }
   ],
   "source": [
    "import pandas as pd\n",
    "\n",
    "# Leer el archivo CSV\n",
    "df = pd.read_csv('entrenamientosHipertrofia.csv')\n",
    "\n",
    "# Función para normalizar la columna 'ejercicio'\n",
    "def normalizar_ejercicio(texto):\n",
    "    # Eliminar espacios en blanco al principio y al final\n",
    "    texto = texto.strip()\n",
    "    # Dividir el texto en palabras\n",
    "    palabras = texto.split()\n",
    "    # Convertir la primera palabra a mayúscula\n",
    "    palabras[0] = palabras[0].capitalize()\n",
    "    # Unir las palabras nuevamente en un solo texto\n",
    "    return ' '.join(palabras)\n",
    "\n",
    "# Aplicar la función a la columna 'ejercicio'\n",
    "df['ejercicio'] = df['ejercicio'].apply(normalizar_ejercicio)\n",
    "\n",
    "# Guardar el DataFrame modificado en un nuevo archivo CSV\n",
    "df.to_csv('entrenamientosHipertrofia_normalizado.csv', index=False)\n",
    "\n",
    "print(\"Datos normalizados y guardados correctamente en 'entrenamientosHipertrofia_normalizado.csv'.\")\n"
   ]
  },
  {
   "cell_type": "markdown",
   "metadata": {},
   "source": [
    "El código siguiente utiliza la función normalizar_socio para convertir la primera letra de cada palabra en la columna 'socio' a mayúscula y eliminará los espacios en blanco al principio y al final del nombre. Después, guardará el DataFrame modificado en un nuevo archivo CSV."
   ]
  },
  {
   "cell_type": "code",
   "execution_count": 2,
   "metadata": {},
   "outputs": [
    {
     "name": "stdout",
     "output_type": "stream",
     "text": [
      "Datos normalizados y guardados correctamente en 'entrenamientosHipertrofia_normalizado.csv'.\n"
     ]
    }
   ],
   "source": [
    "import pandas as pd\n",
    "\n",
    "# Leer el archivo CSV\n",
    "df = pd.read_csv('entrenamientosHipertrofia_normalizado.csv')\n",
    "\n",
    "# Función para normalizar la columna 'socio'\n",
    "def normalizar_socio(texto):\n",
    "    # Eliminar espacios en blanco al principio y al final\n",
    "    texto = texto.strip()\n",
    "    # Dividir el texto en palabras\n",
    "    palabras = texto.split()\n",
    "    # Convertir la primera letra de cada palabra a mayúscula\n",
    "    palabras = [palabra.capitalize() for palabra in palabras]\n",
    "    # Unir las palabras nuevamente en un solo texto\n",
    "    return ' '.join(palabras)\n",
    "\n",
    "# Aplicar la función a la columna 'socio'\n",
    "df['socio'] = df['socio'].apply(normalizar_socio)\n",
    "\n",
    "# Guardar el DataFrame modificado en un nuevo archivo CSV\n",
    "df.to_csv('entrenamientosHipertrofia_normalizado.csv', index=False)\n",
    "\n",
    "print(\"Datos normalizados y guardados correctamente en 'entrenamientosHipertrofia_normalizado.csv'.\")\n"
   ]
  },
  {
   "cell_type": "markdown",
   "metadata": {},
   "source": [
    "El siguiente codigo utilizará la función normalizar_observaciones para convertir la primera letra de la columna 'observaciones' a mayúscula y eliminará los espacios en blanco al principio y al final del texto. Luego, guardará el DataFrame modificado en un nuevo archivo CSV."
   ]
  },
  {
   "cell_type": "code",
   "execution_count": 3,
   "metadata": {},
   "outputs": [
    {
     "name": "stdout",
     "output_type": "stream",
     "text": [
      "Datos normalizados y guardados correctamente en 'entrenamientosHipertrofia_normalizado.csv'.\n"
     ]
    }
   ],
   "source": [
    "import pandas as pd\n",
    "\n",
    "# Leer el archivo CSV\n",
    "df = pd.read_csv('entrenamientosHipertrofia_normalizado.csv')\n",
    "\n",
    "# Función para normalizar la columna 'observaciones'\n",
    "def normalizar_observaciones(texto):\n",
    "    # Verificar si el valor es una cadena\n",
    "    if isinstance(texto, str):\n",
    "        # Eliminar espacios en blanco al principio y al final\n",
    "        texto = texto.strip()\n",
    "        # Convertir la primera letra del texto a mayúscula\n",
    "        texto = texto.capitalize()\n",
    "    return texto\n",
    "\n",
    "# Aplicar la función a la columna 'observaciones'\n",
    "df['observaciones'] = df['observaciones'].apply(normalizar_observaciones)\n",
    "\n",
    "# Guardar el DataFrame modificado en un nuevo archivo CSV\n",
    "df.to_csv('entrenamientosHipertrofia_normalizado.csv', index=False)\n",
    "\n",
    "print(\"Datos normalizados y guardados correctamente en 'entrenamientosHipertrofia_normalizado.csv'.\")"
   ]
  },
  {
   "cell_type": "markdown",
   "metadata": {},
   "source": [
    "Este código reordena las columnas según el orden:\n",
    "idEjercicioHiper,fecha,hora,socio,grupoMuscular,musculo,ejercicio,serie,peso,repeticiones,tiempo,observaciones,usuario\n",
    "Luego guarda el DataFrame modificado en un nuevo archivo CSV llamado 'entrenamientosHipertrofia_normalizado.csv'."
   ]
  },
  {
   "cell_type": "code",
   "execution_count": 4,
   "metadata": {},
   "outputs": [
    {
     "name": "stdout",
     "output_type": "stream",
     "text": [
      "Columnas reordenadas y datos guardados correctamente en 'entrenamientosHipertrofia_normalizado.csv'.\n"
     ]
    }
   ],
   "source": [
    "import pandas as pd\n",
    "\n",
    "# Leer el archivo CSV\n",
    "df = pd.read_csv('entrenamientosHipertrofia_normalizado.csv')\n",
    "\n",
    "# Reordenar las columnas\n",
    "df = df[['idEjercicioHiper', 'fecha', 'hora', 'socio', 'grupoMuscular', 'musculo', 'ejercicio', 'serie', 'peso', 'repeticiones', 'tiempo', 'observaciones', 'usuario']]\n",
    "\n",
    "# Guardar el DataFrame modificado en un nuevo archivo CSV\n",
    "df.to_csv('entrenamientosHipertrofia_normalizado.csv', index=False)\n",
    "\n",
    "print(\"Columnas reordenadas y datos guardados correctamente en 'entrenamientosHipertrofia_normalizado.csv'.\")\n"
   ]
  }
 ],
 "metadata": {
  "kernelspec": {
   "display_name": "Python 3",
   "language": "python",
   "name": "python3"
  },
  "language_info": {
   "codemirror_mode": {
    "name": "ipython",
    "version": 3
   },
   "file_extension": ".py",
   "mimetype": "text/x-python",
   "name": "python",
   "nbconvert_exporter": "python",
   "pygments_lexer": "ipython3",
   "version": "3.11.1"
  }
 },
 "nbformat": 4,
 "nbformat_minor": 2
}
